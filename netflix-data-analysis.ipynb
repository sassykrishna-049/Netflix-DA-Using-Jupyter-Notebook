{
 "cells": [
  {
   "cell_type": "code",
   "execution_count": 1,
   "id": "a5cf7e0a",
   "metadata": {
    "_cell_guid": "b1076dfc-b9ad-4769-8c92-a6c4dae69d19",
    "_uuid": "8f2839f25d086af736a60e9eeb907d3b93b6e0e5",
    "execution": {
     "iopub.execute_input": "2023-06-24T21:12:32.042067Z",
     "iopub.status.busy": "2023-06-24T21:12:32.041413Z",
     "iopub.status.idle": "2023-06-24T21:12:33.419207Z",
     "shell.execute_reply": "2023-06-24T21:12:33.418066Z"
    },
    "papermill": {
     "duration": 1.386343,
     "end_time": "2023-06-24T21:12:33.421775",
     "exception": false,
     "start_time": "2023-06-24T21:12:32.035432",
     "status": "completed"
    },
    "tags": []
   },
   "outputs": [
    {
     "name": "stdout",
     "output_type": "stream",
     "text": [
      "/kaggle/input/netflix-dataset-latest-2021/Netflix Dataset Latest 2021.xlsx\n"
     ]
    }
   ],
   "source": [
    "# This Python 3 environment comes with many helpful analytics libraries installed\n",
    "# It is defined by the kaggle/python Docker image: https://github.com/kaggle/docker-python\n",
    "# For example, here's several helpful packages to load\n",
    "\n",
    "import numpy as np # linear algebra\n",
    "import pandas as pd # data processing, CSV file I/O (e.g. pd.read_csv)\n",
    "import seaborn as sns\n",
    "\n",
    "# Input data files are available in the read-only \"../input/\" directory\n",
    "# For example, running this (by clicking run or pressing Shift+Enter) will list all files under the input directory\n",
    "\n",
    "import os\n",
    "for dirname, _, filenames in os.walk('/kaggle/input'):\n",
    "    for filename in filenames:\n",
    "        print(os.path.join(dirname, filename))\n",
    "\n",
    "# You can write up to 20GB to the current directory (/kaggle/working/) that gets preserved as output when you create a version using \"Save & Run All\" \n",
    "# You can also write temporary files to /kaggle/temp/, but they won't be saved outside of the current session"
   ]
  },
  {
   "cell_type": "code",
   "execution_count": 2,
   "id": "092980ce",
   "metadata": {
    "execution": {
     "iopub.execute_input": "2023-06-24T21:12:33.431656Z",
     "iopub.status.busy": "2023-06-24T21:12:33.431300Z",
     "iopub.status.idle": "2023-06-24T21:12:41.318915Z",
     "shell.execute_reply": "2023-06-24T21:12:41.317929Z"
    },
    "papermill": {
     "duration": 7.895299,
     "end_time": "2023-06-24T21:12:41.321392",
     "exception": false,
     "start_time": "2023-06-24T21:12:33.426093",
     "status": "completed"
    },
    "tags": []
   },
   "outputs": [],
   "source": [
    "df_netflix = pd.read_excel(\"/kaggle/input/netflix-dataset-latest-2021/Netflix Dataset Latest 2021.xlsx\")"
   ]
  },
  {
   "cell_type": "code",
   "execution_count": 3,
   "id": "8be6d166",
   "metadata": {
    "execution": {
     "iopub.execute_input": "2023-06-24T21:12:41.331703Z",
     "iopub.status.busy": "2023-06-24T21:12:41.331052Z",
     "iopub.status.idle": "2023-06-24T21:12:41.381604Z",
     "shell.execute_reply": "2023-06-24T21:12:41.380469Z"
    },
    "papermill": {
     "duration": 0.058819,
     "end_time": "2023-06-24T21:12:41.384527",
     "exception": false,
     "start_time": "2023-06-24T21:12:41.325708",
     "status": "completed"
    },
    "tags": []
   },
   "outputs": [
    {
     "data": {
      "text/html": [
       "<div>\n",
       "<style scoped>\n",
       "    .dataframe tbody tr th:only-of-type {\n",
       "        vertical-align: middle;\n",
       "    }\n",
       "\n",
       "    .dataframe tbody tr th {\n",
       "        vertical-align: top;\n",
       "    }\n",
       "\n",
       "    .dataframe thead th {\n",
       "        text-align: right;\n",
       "    }\n",
       "</style>\n",
       "<table border=\"1\" class=\"dataframe\">\n",
       "  <thead>\n",
       "    <tr style=\"text-align: right;\">\n",
       "      <th></th>\n",
       "      <th>Title</th>\n",
       "      <th>Genre</th>\n",
       "      <th>Tags</th>\n",
       "      <th>Languages</th>\n",
       "      <th>Series or Movie</th>\n",
       "      <th>Hidden Gem Score</th>\n",
       "      <th>Country Availability</th>\n",
       "      <th>Runtime</th>\n",
       "      <th>Director</th>\n",
       "      <th>Writer</th>\n",
       "      <th>...</th>\n",
       "      <th>Netflix Release Date</th>\n",
       "      <th>Production House</th>\n",
       "      <th>Netflix Link</th>\n",
       "      <th>IMDb Link</th>\n",
       "      <th>Summary</th>\n",
       "      <th>IMDb Votes</th>\n",
       "      <th>Image</th>\n",
       "      <th>Poster</th>\n",
       "      <th>TMDb Trailer</th>\n",
       "      <th>Trailer Site</th>\n",
       "    </tr>\n",
       "  </thead>\n",
       "  <tbody>\n",
       "    <tr>\n",
       "      <th>0</th>\n",
       "      <td>Lets Fight Ghost</td>\n",
       "      <td>Crime, Drama, Fantasy, Horror, Romance</td>\n",
       "      <td>Comedy Programmes,Romantic TV Comedies,Horror ...</td>\n",
       "      <td>Swedish, Spanish</td>\n",
       "      <td>Series</td>\n",
       "      <td>4.3</td>\n",
       "      <td>Thailand</td>\n",
       "      <td>&lt; 30 minutes</td>\n",
       "      <td>Tomas Alfredson</td>\n",
       "      <td>John Ajvide Lindqvist</td>\n",
       "      <td>...</td>\n",
       "      <td>2021-03-04</td>\n",
       "      <td>Canal+, Sandrew Metronome</td>\n",
       "      <td>https://www.netflix.com/watch/81415947</td>\n",
       "      <td>https://www.imdb.com/title/tt1139797</td>\n",
       "      <td>A med student with a supernatural gift tries t...</td>\n",
       "      <td>205926.0</td>\n",
       "      <td>https://occ-0-4708-64.1.nflxso.net/dnm/api/v6/...</td>\n",
       "      <td>https://m.media-amazon.com/images/M/MV5BOWM4NT...</td>\n",
       "      <td>https://www.youtube.com/watch?v=LqB6XJix-dM</td>\n",
       "      <td>YouTube</td>\n",
       "    </tr>\n",
       "    <tr>\n",
       "      <th>1</th>\n",
       "      <td>HOW TO BUILD A GIRL</td>\n",
       "      <td>Comedy</td>\n",
       "      <td>Dramas,Comedies,Films Based on Books,British</td>\n",
       "      <td>English</td>\n",
       "      <td>Movie</td>\n",
       "      <td>7.0</td>\n",
       "      <td>Canada</td>\n",
       "      <td>1-2 hour</td>\n",
       "      <td>Coky Giedroyc</td>\n",
       "      <td>Caitlin Moran</td>\n",
       "      <td>...</td>\n",
       "      <td>2021-03-04</td>\n",
       "      <td>Film 4, Monumental Pictures, Lionsgate</td>\n",
       "      <td>https://www.netflix.com/watch/81041267</td>\n",
       "      <td>https://www.imdb.com/title/tt4193072</td>\n",
       "      <td>When nerdy Johanna moves to London, things get...</td>\n",
       "      <td>2838.0</td>\n",
       "      <td>https://occ-0-1081-999.1.nflxso.net/dnm/api/v6...</td>\n",
       "      <td>https://m.media-amazon.com/images/M/MV5BZGUyN2...</td>\n",
       "      <td>https://www.youtube.com/watch?v=eIbcxPy4okQ</td>\n",
       "      <td>YouTube</td>\n",
       "    </tr>\n",
       "    <tr>\n",
       "      <th>2</th>\n",
       "      <td>The Con-Heartist</td>\n",
       "      <td>Comedy, Romance</td>\n",
       "      <td>Romantic Comedies,Comedies,Romantic Films,Thai...</td>\n",
       "      <td>Thai</td>\n",
       "      <td>Movie</td>\n",
       "      <td>8.6</td>\n",
       "      <td>Thailand</td>\n",
       "      <td>&gt; 2 hrs</td>\n",
       "      <td>Mez Tharatorn</td>\n",
       "      <td>Pattaranad Bhiboonsawade, Mez Tharatorn, Thods...</td>\n",
       "      <td>...</td>\n",
       "      <td>2021-03-03</td>\n",
       "      <td>NaN</td>\n",
       "      <td>https://www.netflix.com/watch/81306155</td>\n",
       "      <td>https://www.imdb.com/title/tt13393728</td>\n",
       "      <td>After her ex-boyfriend cons her out of a large...</td>\n",
       "      <td>131.0</td>\n",
       "      <td>https://occ-0-2188-64.1.nflxso.net/dnm/api/v6/...</td>\n",
       "      <td>https://m.media-amazon.com/images/M/MV5BODAzOG...</td>\n",
       "      <td>https://www.youtube.com/watch?v=md3CmFLGK6Y</td>\n",
       "      <td>YouTube</td>\n",
       "    </tr>\n",
       "    <tr>\n",
       "      <th>3</th>\n",
       "      <td>Gleboka woda</td>\n",
       "      <td>Drama</td>\n",
       "      <td>TV Dramas,Polish TV Shows,Social Issue TV Dramas</td>\n",
       "      <td>Polish</td>\n",
       "      <td>Series</td>\n",
       "      <td>8.7</td>\n",
       "      <td>Poland</td>\n",
       "      <td>&lt; 30 minutes</td>\n",
       "      <td>NaN</td>\n",
       "      <td>NaN</td>\n",
       "      <td>...</td>\n",
       "      <td>2021-03-03</td>\n",
       "      <td>NaN</td>\n",
       "      <td>https://www.netflix.com/watch/81307527</td>\n",
       "      <td>https://www.imdb.com/title/tt2300049</td>\n",
       "      <td>A group of social welfare workers led by their...</td>\n",
       "      <td>47.0</td>\n",
       "      <td>https://occ-0-2508-2706.1.nflxso.net/dnm/api/v...</td>\n",
       "      <td>https://m.media-amazon.com/images/M/MV5BMTc0Nz...</td>\n",
       "      <td>https://www.youtube.com/watch?v=5kyF2vy63r0</td>\n",
       "      <td>YouTube</td>\n",
       "    </tr>\n",
       "    <tr>\n",
       "      <th>4</th>\n",
       "      <td>Only a Mother</td>\n",
       "      <td>Drama</td>\n",
       "      <td>Social Issue Dramas,Dramas,Movies Based on Boo...</td>\n",
       "      <td>Swedish</td>\n",
       "      <td>Movie</td>\n",
       "      <td>8.3</td>\n",
       "      <td>Lithuania,Poland,France,Italy,Spain,Greece,Bel...</td>\n",
       "      <td>1-2 hour</td>\n",
       "      <td>Alf Sjöberg</td>\n",
       "      <td>Ivar Lo-Johansson</td>\n",
       "      <td>...</td>\n",
       "      <td>2021-03-03</td>\n",
       "      <td>NaN</td>\n",
       "      <td>https://www.netflix.com/watch/81382068</td>\n",
       "      <td>https://www.imdb.com/title/tt0041155</td>\n",
       "      <td>An unhappily married farm worker struggling to...</td>\n",
       "      <td>88.0</td>\n",
       "      <td>https://occ-0-2851-41.1.nflxso.net/dnm/api/v6/...</td>\n",
       "      <td>https://m.media-amazon.com/images/M/MV5BMjVmMz...</td>\n",
       "      <td>https://www.youtube.com/watch?v=H0itWKFwMpQ</td>\n",
       "      <td>YouTube</td>\n",
       "    </tr>\n",
       "  </tbody>\n",
       "</table>\n",
       "<p>5 rows × 29 columns</p>\n",
       "</div>"
      ],
      "text/plain": [
       "                 Title                                   Genre  \\\n",
       "0     Lets Fight Ghost  Crime, Drama, Fantasy, Horror, Romance   \n",
       "1  HOW TO BUILD A GIRL                                  Comedy   \n",
       "2     The Con-Heartist                         Comedy, Romance   \n",
       "3         Gleboka woda                                   Drama   \n",
       "4        Only a Mother                                   Drama   \n",
       "\n",
       "                                                Tags         Languages  \\\n",
       "0  Comedy Programmes,Romantic TV Comedies,Horror ...  Swedish, Spanish   \n",
       "1       Dramas,Comedies,Films Based on Books,British           English   \n",
       "2  Romantic Comedies,Comedies,Romantic Films,Thai...              Thai   \n",
       "3   TV Dramas,Polish TV Shows,Social Issue TV Dramas            Polish   \n",
       "4  Social Issue Dramas,Dramas,Movies Based on Boo...           Swedish   \n",
       "\n",
       "  Series or Movie  Hidden Gem Score  \\\n",
       "0          Series               4.3   \n",
       "1           Movie               7.0   \n",
       "2           Movie               8.6   \n",
       "3          Series               8.7   \n",
       "4           Movie               8.3   \n",
       "\n",
       "                                Country Availability       Runtime  \\\n",
       "0                                           Thailand  < 30 minutes   \n",
       "1                                             Canada      1-2 hour   \n",
       "2                                           Thailand       > 2 hrs   \n",
       "3                                             Poland  < 30 minutes   \n",
       "4  Lithuania,Poland,France,Italy,Spain,Greece,Bel...      1-2 hour   \n",
       "\n",
       "          Director                                             Writer  ...  \\\n",
       "0  Tomas Alfredson                              John Ajvide Lindqvist  ...   \n",
       "1    Coky Giedroyc                                      Caitlin Moran  ...   \n",
       "2    Mez Tharatorn  Pattaranad Bhiboonsawade, Mez Tharatorn, Thods...  ...   \n",
       "3              NaN                                                NaN  ...   \n",
       "4      Alf Sjöberg                                  Ivar Lo-Johansson  ...   \n",
       "\n",
       "  Netflix Release Date                        Production House  \\\n",
       "0           2021-03-04               Canal+, Sandrew Metronome   \n",
       "1           2021-03-04  Film 4, Monumental Pictures, Lionsgate   \n",
       "2           2021-03-03                                     NaN   \n",
       "3           2021-03-03                                     NaN   \n",
       "4           2021-03-03                                     NaN   \n",
       "\n",
       "                             Netflix Link  \\\n",
       "0  https://www.netflix.com/watch/81415947   \n",
       "1  https://www.netflix.com/watch/81041267   \n",
       "2  https://www.netflix.com/watch/81306155   \n",
       "3  https://www.netflix.com/watch/81307527   \n",
       "4  https://www.netflix.com/watch/81382068   \n",
       "\n",
       "                               IMDb Link  \\\n",
       "0   https://www.imdb.com/title/tt1139797   \n",
       "1   https://www.imdb.com/title/tt4193072   \n",
       "2  https://www.imdb.com/title/tt13393728   \n",
       "3   https://www.imdb.com/title/tt2300049   \n",
       "4   https://www.imdb.com/title/tt0041155   \n",
       "\n",
       "                                             Summary  IMDb Votes  \\\n",
       "0  A med student with a supernatural gift tries t...    205926.0   \n",
       "1  When nerdy Johanna moves to London, things get...      2838.0   \n",
       "2  After her ex-boyfriend cons her out of a large...       131.0   \n",
       "3  A group of social welfare workers led by their...        47.0   \n",
       "4  An unhappily married farm worker struggling to...        88.0   \n",
       "\n",
       "                                               Image  \\\n",
       "0  https://occ-0-4708-64.1.nflxso.net/dnm/api/v6/...   \n",
       "1  https://occ-0-1081-999.1.nflxso.net/dnm/api/v6...   \n",
       "2  https://occ-0-2188-64.1.nflxso.net/dnm/api/v6/...   \n",
       "3  https://occ-0-2508-2706.1.nflxso.net/dnm/api/v...   \n",
       "4  https://occ-0-2851-41.1.nflxso.net/dnm/api/v6/...   \n",
       "\n",
       "                                              Poster  \\\n",
       "0  https://m.media-amazon.com/images/M/MV5BOWM4NT...   \n",
       "1  https://m.media-amazon.com/images/M/MV5BZGUyN2...   \n",
       "2  https://m.media-amazon.com/images/M/MV5BODAzOG...   \n",
       "3  https://m.media-amazon.com/images/M/MV5BMTc0Nz...   \n",
       "4  https://m.media-amazon.com/images/M/MV5BMjVmMz...   \n",
       "\n",
       "                                  TMDb Trailer Trailer Site  \n",
       "0  https://www.youtube.com/watch?v=LqB6XJix-dM      YouTube  \n",
       "1  https://www.youtube.com/watch?v=eIbcxPy4okQ      YouTube  \n",
       "2  https://www.youtube.com/watch?v=md3CmFLGK6Y      YouTube  \n",
       "3  https://www.youtube.com/watch?v=5kyF2vy63r0      YouTube  \n",
       "4  https://www.youtube.com/watch?v=H0itWKFwMpQ      YouTube  \n",
       "\n",
       "[5 rows x 29 columns]"
      ]
     },
     "execution_count": 3,
     "metadata": {},
     "output_type": "execute_result"
    }
   ],
   "source": [
    "df_netflix.head()"
   ]
  },
  {
   "cell_type": "code",
   "execution_count": 4,
   "id": "53f44d9e",
   "metadata": {
    "execution": {
     "iopub.execute_input": "2023-06-24T21:12:41.396548Z",
     "iopub.status.busy": "2023-06-24T21:12:41.395685Z",
     "iopub.status.idle": "2023-06-24T21:12:41.453948Z",
     "shell.execute_reply": "2023-06-24T21:12:41.452537Z"
    },
    "papermill": {
     "duration": 0.067097,
     "end_time": "2023-06-24T21:12:41.456688",
     "exception": false,
     "start_time": "2023-06-24T21:12:41.389591",
     "status": "completed"
    },
    "tags": []
   },
   "outputs": [
    {
     "name": "stdout",
     "output_type": "stream",
     "text": [
      "<class 'pandas.core.frame.DataFrame'>\n",
      "RangeIndex: 9425 entries, 0 to 9424\n",
      "Data columns (total 29 columns):\n",
      " #   Column                 Non-Null Count  Dtype         \n",
      "---  ------                 --------------  -----         \n",
      " 0   Title                  9425 non-null   object        \n",
      " 1   Genre                  9400 non-null   object        \n",
      " 2   Tags                   9389 non-null   object        \n",
      " 3   Languages              9266 non-null   object        \n",
      " 4   Series or Movie        9425 non-null   object        \n",
      " 5   Hidden Gem Score       9415 non-null   float64       \n",
      " 6   Country Availability   9414 non-null   object        \n",
      " 7   Runtime                9424 non-null   object        \n",
      " 8   Director               7120 non-null   object        \n",
      " 9   Writer                 7615 non-null   object        \n",
      " 10  Actors                 9314 non-null   object        \n",
      " 11  View Rating            6827 non-null   object        \n",
      " 12  IMDb Score             9417 non-null   float64       \n",
      " 13  Rotten Tomatoes Score  5445 non-null   float64       \n",
      " 14  Metacritic Score       4082 non-null   float64       \n",
      " 15  Awards Received        5226 non-null   float64       \n",
      " 16  Awards Nominated For   6376 non-null   float64       \n",
      " 17  Boxoffice              3754 non-null   float64       \n",
      " 18  Release Date           9217 non-null   datetime64[ns]\n",
      " 19  Netflix Release Date   9425 non-null   datetime64[ns]\n",
      " 20  Production House       4393 non-null   object        \n",
      " 21  Netflix Link           9425 non-null   object        \n",
      " 22  IMDb Link              9101 non-null   object        \n",
      " 23  Summary                9420 non-null   object        \n",
      " 24  IMDb Votes             9415 non-null   float64       \n",
      " 25  Image                  9425 non-null   object        \n",
      " 26  Poster                 8487 non-null   object        \n",
      " 27  TMDb Trailer           9425 non-null   object        \n",
      " 28  Trailer Site           9424 non-null   object        \n",
      "dtypes: datetime64[ns](2), float64(8), object(19)\n",
      "memory usage: 2.1+ MB\n"
     ]
    }
   ],
   "source": [
    "df_netflix.info()"
   ]
  },
  {
   "cell_type": "code",
   "execution_count": 5,
   "id": "e687357c",
   "metadata": {
    "execution": {
     "iopub.execute_input": "2023-06-24T21:12:41.468409Z",
     "iopub.status.busy": "2023-06-24T21:12:41.467430Z",
     "iopub.status.idle": "2023-06-24T21:12:41.474432Z",
     "shell.execute_reply": "2023-06-24T21:12:41.473370Z"
    },
    "papermill": {
     "duration": 0.015134,
     "end_time": "2023-06-24T21:12:41.476629",
     "exception": false,
     "start_time": "2023-06-24T21:12:41.461495",
     "status": "completed"
    },
    "tags": []
   },
   "outputs": [
    {
     "data": {
      "text/plain": [
       "(9425, 29)"
      ]
     },
     "execution_count": 5,
     "metadata": {},
     "output_type": "execute_result"
    }
   ],
   "source": [
    "df_netflix.shape"
   ]
  },
  {
   "cell_type": "code",
   "execution_count": 6,
   "id": "3fd00bf6",
   "metadata": {
    "execution": {
     "iopub.execute_input": "2023-06-24T21:12:41.488982Z",
     "iopub.status.busy": "2023-06-24T21:12:41.488507Z",
     "iopub.status.idle": "2023-06-24T21:12:41.495877Z",
     "shell.execute_reply": "2023-06-24T21:12:41.494786Z"
    },
    "papermill": {
     "duration": 0.016623,
     "end_time": "2023-06-24T21:12:41.498060",
     "exception": false,
     "start_time": "2023-06-24T21:12:41.481437",
     "status": "completed"
    },
    "tags": []
   },
   "outputs": [
    {
     "data": {
      "text/plain": [
       "Index(['Title', 'Genre', 'Tags', 'Languages', 'Series or Movie',\n",
       "       'Hidden Gem Score', 'Country Availability', 'Runtime', 'Director',\n",
       "       'Writer', 'Actors', 'View Rating', 'IMDb Score',\n",
       "       'Rotten Tomatoes Score', 'Metacritic Score', 'Awards Received',\n",
       "       'Awards Nominated For', 'Boxoffice', 'Release Date',\n",
       "       'Netflix Release Date', 'Production House', 'Netflix Link', 'IMDb Link',\n",
       "       'Summary', 'IMDb Votes', 'Image', 'Poster', 'TMDb Trailer',\n",
       "       'Trailer Site'],\n",
       "      dtype='object')"
      ]
     },
     "execution_count": 6,
     "metadata": {},
     "output_type": "execute_result"
    }
   ],
   "source": [
    "df_netflix.columns"
   ]
  },
  {
   "cell_type": "code",
   "execution_count": 7,
   "id": "ef68205e",
   "metadata": {
    "execution": {
     "iopub.execute_input": "2023-06-24T21:12:41.510778Z",
     "iopub.status.busy": "2023-06-24T21:12:41.510408Z",
     "iopub.status.idle": "2023-06-24T21:12:41.565225Z",
     "shell.execute_reply": "2023-06-24T21:12:41.564350Z"
    },
    "papermill": {
     "duration": 0.062979,
     "end_time": "2023-06-24T21:12:41.567393",
     "exception": false,
     "start_time": "2023-06-24T21:12:41.504414",
     "status": "completed"
    },
    "tags": []
   },
   "outputs": [
    {
     "data": {
      "text/plain": [
       "0"
      ]
     },
     "execution_count": 7,
     "metadata": {},
     "output_type": "execute_result"
    }
   ],
   "source": [
    "## to check for duplicates \n",
    "df_netflix.duplicated().sum()"
   ]
  },
  {
   "cell_type": "code",
   "execution_count": 8,
   "id": "257e3acc",
   "metadata": {
    "execution": {
     "iopub.execute_input": "2023-06-24T21:12:41.579356Z",
     "iopub.status.busy": "2023-06-24T21:12:41.578628Z",
     "iopub.status.idle": "2023-06-24T21:12:41.623863Z",
     "shell.execute_reply": "2023-06-24T21:12:41.622802Z"
    },
    "papermill": {
     "duration": 0.053393,
     "end_time": "2023-06-24T21:12:41.625942",
     "exception": false,
     "start_time": "2023-06-24T21:12:41.572549",
     "status": "completed"
    },
    "tags": []
   },
   "outputs": [
    {
     "data": {
      "text/plain": [
       "Boxoffice                5671\n",
       "Metacritic Score         5343\n",
       "Production House         5032\n",
       "Awards Received          4199\n",
       "Rotten Tomatoes Score    3980\n",
       "Awards Nominated For     3049\n",
       "View Rating              2598\n",
       "Director                 2305\n",
       "Writer                   1810\n",
       "Poster                    938\n",
       "IMDb Link                 324\n",
       "Release Date              208\n",
       "Languages                 159\n",
       "Actors                    111\n",
       "Tags                       36\n",
       "Genre                      25\n",
       "Country Availability       11\n",
       "IMDb Votes                 10\n",
       "Hidden Gem Score           10\n",
       "IMDb Score                  8\n",
       "Summary                     5\n",
       "Trailer Site                1\n",
       "Runtime                     1\n",
       "Netflix Link                0\n",
       "Netflix Release Date        0\n",
       "Image                       0\n",
       "Series or Movie             0\n",
       "TMDb Trailer                0\n",
       "Title                       0\n",
       "dtype: int64"
      ]
     },
     "execution_count": 8,
     "metadata": {},
     "output_type": "execute_result"
    }
   ],
   "source": [
    "## To check for null values \n",
    "df_netflix.isnull().sum().sort_values(ascending = False)\n",
    "# as the 'box office' column is having the most null values and we do not have the record of whats the colection the film made , we are deleting the column"
   ]
  },
  {
   "cell_type": "code",
   "execution_count": 9,
   "id": "a2e5090b",
   "metadata": {
    "execution": {
     "iopub.execute_input": "2023-06-24T21:12:41.637837Z",
     "iopub.status.busy": "2023-06-24T21:12:41.637438Z",
     "iopub.status.idle": "2023-06-24T21:12:41.681314Z",
     "shell.execute_reply": "2023-06-24T21:12:41.680273Z"
    },
    "papermill": {
     "duration": 0.052611,
     "end_time": "2023-06-24T21:12:41.683707",
     "exception": false,
     "start_time": "2023-06-24T21:12:41.631096",
     "status": "completed"
    },
    "tags": []
   },
   "outputs": [],
   "source": [
    "# to calculate the percentage null values \n",
    "percentage_null = (df_netflix.isnull().sum().sort_values(ascending = False))/len(df_netflix)* 100\n"
   ]
  },
  {
   "cell_type": "code",
   "execution_count": 10,
   "id": "e4cf8c20",
   "metadata": {
    "execution": {
     "iopub.execute_input": "2023-06-24T21:12:41.695699Z",
     "iopub.status.busy": "2023-06-24T21:12:41.695332Z",
     "iopub.status.idle": "2023-06-24T21:12:41.703408Z",
     "shell.execute_reply": "2023-06-24T21:12:41.702213Z"
    },
    "papermill": {
     "duration": 0.016677,
     "end_time": "2023-06-24T21:12:41.705556",
     "exception": false,
     "start_time": "2023-06-24T21:12:41.688879",
     "status": "completed"
    },
    "tags": []
   },
   "outputs": [
    {
     "data": {
      "text/plain": [
       "Boxoffice                60.169761\n",
       "Metacritic Score         56.689655\n",
       "Production House         53.389920\n",
       "Awards Received          44.551724\n",
       "Rotten Tomatoes Score    42.228117\n",
       "Awards Nominated For     32.350133\n",
       "View Rating              27.564987\n",
       "Director                 24.456233\n",
       "Writer                   19.204244\n",
       "Poster                    9.952255\n",
       "IMDb Link                 3.437666\n",
       "Release Date              2.206897\n",
       "Languages                 1.687003\n",
       "Actors                    1.177719\n",
       "Tags                      0.381963\n",
       "Genre                     0.265252\n",
       "Country Availability      0.116711\n",
       "IMDb Votes                0.106101\n",
       "Hidden Gem Score          0.106101\n",
       "IMDb Score                0.084881\n",
       "Summary                   0.053050\n",
       "Trailer Site              0.010610\n",
       "Runtime                   0.010610\n",
       "Netflix Link              0.000000\n",
       "Netflix Release Date      0.000000\n",
       "Image                     0.000000\n",
       "Series or Movie           0.000000\n",
       "TMDb Trailer              0.000000\n",
       "Title                     0.000000\n",
       "dtype: float64"
      ]
     },
     "execution_count": 10,
     "metadata": {},
     "output_type": "execute_result"
    }
   ],
   "source": [
    "percentage_null"
   ]
  },
  {
   "cell_type": "code",
   "execution_count": 11,
   "id": "ec9b1e97",
   "metadata": {
    "execution": {
     "iopub.execute_input": "2023-06-24T21:12:41.717636Z",
     "iopub.status.busy": "2023-06-24T21:12:41.717240Z",
     "iopub.status.idle": "2023-06-24T21:12:41.726255Z",
     "shell.execute_reply": "2023-06-24T21:12:41.725234Z"
    },
    "papermill": {
     "duration": 0.017576,
     "end_time": "2023-06-24T21:12:41.728485",
     "exception": false,
     "start_time": "2023-06-24T21:12:41.710909",
     "status": "completed"
    },
    "tags": []
   },
   "outputs": [],
   "source": [
    "## deleting the columns not required\n",
    "df_netflix.drop(['Boxoffice','Metacritic Score','Netflix Link','TMDb Trailer','IMDb Link','Summary','Image','Poster','Production House'],axis=1,inplace=True)"
   ]
  },
  {
   "cell_type": "code",
   "execution_count": 12,
   "id": "b3e6a902",
   "metadata": {
    "execution": {
     "iopub.execute_input": "2023-06-24T21:12:41.740938Z",
     "iopub.status.busy": "2023-06-24T21:12:41.740300Z",
     "iopub.status.idle": "2023-06-24T21:12:41.747361Z",
     "shell.execute_reply": "2023-06-24T21:12:41.746400Z"
    },
    "papermill": {
     "duration": 0.016019,
     "end_time": "2023-06-24T21:12:41.749667",
     "exception": false,
     "start_time": "2023-06-24T21:12:41.733648",
     "status": "completed"
    },
    "tags": []
   },
   "outputs": [
    {
     "data": {
      "text/plain": [
       "Index(['Title', 'Genre', 'Tags', 'Languages', 'Series or Movie',\n",
       "       'Hidden Gem Score', 'Country Availability', 'Runtime', 'Director',\n",
       "       'Writer', 'Actors', 'View Rating', 'IMDb Score',\n",
       "       'Rotten Tomatoes Score', 'Awards Received', 'Awards Nominated For',\n",
       "       'Release Date', 'Netflix Release Date', 'IMDb Votes', 'Trailer Site'],\n",
       "      dtype='object')"
      ]
     },
     "execution_count": 12,
     "metadata": {},
     "output_type": "execute_result"
    }
   ],
   "source": [
    "df_netflix.columns"
   ]
  },
  {
   "cell_type": "code",
   "execution_count": 13,
   "id": "49874fdf",
   "metadata": {
    "execution": {
     "iopub.execute_input": "2023-06-24T21:12:41.762545Z",
     "iopub.status.busy": "2023-06-24T21:12:41.761885Z",
     "iopub.status.idle": "2023-06-24T21:12:41.796075Z",
     "shell.execute_reply": "2023-06-24T21:12:41.794960Z"
    },
    "papermill": {
     "duration": 0.043395,
     "end_time": "2023-06-24T21:12:41.798565",
     "exception": false,
     "start_time": "2023-06-24T21:12:41.755170",
     "status": "completed"
    },
    "tags": []
   },
   "outputs": [
    {
     "name": "stdout",
     "output_type": "stream",
     "text": [
      "<class 'pandas.core.frame.DataFrame'>\n",
      "RangeIndex: 9425 entries, 0 to 9424\n",
      "Data columns (total 20 columns):\n",
      " #   Column                 Non-Null Count  Dtype         \n",
      "---  ------                 --------------  -----         \n",
      " 0   Title                  9425 non-null   object        \n",
      " 1   Genre                  9400 non-null   object        \n",
      " 2   Tags                   9389 non-null   object        \n",
      " 3   Languages              9266 non-null   object        \n",
      " 4   Series or Movie        9425 non-null   object        \n",
      " 5   Hidden Gem Score       9415 non-null   float64       \n",
      " 6   Country Availability   9414 non-null   object        \n",
      " 7   Runtime                9424 non-null   object        \n",
      " 8   Director               7120 non-null   object        \n",
      " 9   Writer                 7615 non-null   object        \n",
      " 10  Actors                 9314 non-null   object        \n",
      " 11  View Rating            6827 non-null   object        \n",
      " 12  IMDb Score             9417 non-null   float64       \n",
      " 13  Rotten Tomatoes Score  5445 non-null   float64       \n",
      " 14  Awards Received        5226 non-null   float64       \n",
      " 15  Awards Nominated For   6376 non-null   float64       \n",
      " 16  Release Date           9217 non-null   datetime64[ns]\n",
      " 17  Netflix Release Date   9425 non-null   datetime64[ns]\n",
      " 18  IMDb Votes             9415 non-null   float64       \n",
      " 19  Trailer Site           9424 non-null   object        \n",
      "dtypes: datetime64[ns](2), float64(6), object(12)\n",
      "memory usage: 1.4+ MB\n"
     ]
    }
   ],
   "source": [
    "df_netflix.info()"
   ]
  },
  {
   "cell_type": "code",
   "execution_count": 14,
   "id": "0769ce9f",
   "metadata": {
    "execution": {
     "iopub.execute_input": "2023-06-24T21:12:41.811296Z",
     "iopub.status.busy": "2023-06-24T21:12:41.810661Z",
     "iopub.status.idle": "2023-06-24T21:12:41.841760Z",
     "shell.execute_reply": "2023-06-24T21:12:41.840521Z"
    },
    "papermill": {
     "duration": 0.040346,
     "end_time": "2023-06-24T21:12:41.844273",
     "exception": false,
     "start_time": "2023-06-24T21:12:41.803927",
     "status": "completed"
    },
    "tags": []
   },
   "outputs": [
    {
     "data": {
      "text/plain": [
       "Awards Received          44.551724\n",
       "Rotten Tomatoes Score    42.228117\n",
       "Awards Nominated For     32.350133\n",
       "View Rating              27.564987\n",
       "Director                 24.456233\n",
       "Writer                   19.204244\n",
       "Release Date              2.206897\n",
       "Languages                 1.687003\n",
       "Actors                    1.177719\n",
       "Tags                      0.381963\n",
       "Genre                     0.265252\n",
       "Country Availability      0.116711\n",
       "IMDb Votes                0.106101\n",
       "Hidden Gem Score          0.106101\n",
       "IMDb Score                0.084881\n",
       "Trailer Site              0.010610\n",
       "Runtime                   0.010610\n",
       "Netflix Release Date      0.000000\n",
       "Series or Movie           0.000000\n",
       "Title                     0.000000\n",
       "dtype: float64"
      ]
     },
     "execution_count": 14,
     "metadata": {},
     "output_type": "execute_result"
    }
   ],
   "source": [
    "(df_netflix.isnull().sum().sort_values(ascending = False))/len(df_netflix)* 100\n"
   ]
  },
  {
   "cell_type": "code",
   "execution_count": null,
   "id": "3d27d91a",
   "metadata": {
    "papermill": {
     "duration": 0.005663,
     "end_time": "2023-06-24T21:12:41.855795",
     "exception": false,
     "start_time": "2023-06-24T21:12:41.850132",
     "status": "completed"
    },
    "tags": []
   },
   "outputs": [],
   "source": []
  }
 ],
 "metadata": {
  "kernelspec": {
   "display_name": "Python 3",
   "language": "python",
   "name": "python3"
  },
  "language_info": {
   "codemirror_mode": {
    "name": "ipython",
    "version": 3
   },
   "file_extension": ".py",
   "mimetype": "text/x-python",
   "name": "python",
   "nbconvert_exporter": "python",
   "pygments_lexer": "ipython3",
   "version": "3.10.10"
  },
  "papermill": {
   "default_parameters": {},
   "duration": 20.608947,
   "end_time": "2023-06-24T21:12:42.984943",
   "environment_variables": {},
   "exception": null,
   "input_path": "__notebook__.ipynb",
   "output_path": "__notebook__.ipynb",
   "parameters": {},
   "start_time": "2023-06-24T21:12:22.375996",
   "version": "2.4.0"
  }
 },
 "nbformat": 4,
 "nbformat_minor": 5
}
